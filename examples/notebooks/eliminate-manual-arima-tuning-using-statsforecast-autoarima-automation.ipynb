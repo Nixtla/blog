{
 "cells": [
  {
   "cell_type": "markdown",
   "metadata": {},
   "source": [
    "# AutoARIMA for Automatic Time Series Forecasting\n",
    "\n",
    "This notebook demonstrates how to use StatsForecast's AutoARIMA for automatic parameter selection in time series forecasting, eliminating weeks of manual parameter tuning.\n",
    "\n",
    "## Setup\n",
    "\n",
    "Install required packages:\n",
    "```bash\n",
    "pip install statsforecast pandas numpy matplotlib\n",
    "```"
   ]
  },
  {
   "cell_type": "code",
   "execution_count": null,
   "metadata": {},
   "outputs": [],
   "source": [
    "import pandas as pd\n",
    "import numpy as np\n",
    "from statsforecast import StatsForecast\n",
    "from statsforecast.models import AutoARIMA, AutoETS, SeasonalNaive\n",
    "import matplotlib.pyplot as plt"
   ]
  },
  {
   "cell_type": "markdown",
   "metadata": {},
   "source": [
    "## Generate Sample Retail Data\n",
    "\n",
    "Create realistic retail sales data with seasonal patterns and trends:"
   ]
  },
  {
   "cell_type": "code",
   "execution_count": null,
   "metadata": {},
   "outputs": [],
   "source": [
    "# Generate controlled retail sales data with precise date control\n",
    "\n",
    "# Set seed for reproducibility\n",
    "np.random.seed(42)\n",
    "\n",
    "# Create exact date range for the article\n",
    "start_date = pd.Timestamp(\"2020-01-01\")\n",
    "end_date = pd.Timestamp(\"2023-12-01\")\n",
    "dates = pd.date_range(start=start_date, end=end_date, freq=\"MS\")\n",
    "\n",
    "# Create 5 product categories\n",
    "categories = [\"electronics\", \"clothing\", \"home_garden\", \"sports\", \"books\"]\n",
    "retail_data = []\n",
    "\n",
    "for category in categories:\n",
    "    # Generate realistic retail sales with trend, seasonality, and noise\n",
    "    n_periods = len(dates)\n",
    "    \n",
    "    # Base trend: gradual growth over time\n",
    "    trend = np.linspace(50000, 80000, n_periods)\n",
    "    \n",
    "    # Seasonal pattern: higher sales in Q4 (holiday season)\n",
    "    seasonal = 10000 * np.sin(2 * np.pi * np.arange(n_periods) / 12 + np.pi/2)\n",
    "    \n",
    "    # Random noise for realistic variation\n",
    "    noise = np.random.normal(0, 5000, n_periods)\n",
    "\n",
    "    # Category-specific scaling factors based on typical retail patterns\n",
    "    multipliers = {\n",
    "        \"electronics\": 1.2,    # Higher sales volume\n",
    "        \"clothing\": 0.9,       # Moderate sales\n",
    "        \"home_garden\": 1.0,    # Baseline category\n",
    "        \"sports\": 0.8,         # Lower volume\n",
    "        \"books\": 0.7,          # Lowest volume\n",
    "    }\n",
    "\n",
    "    # Combine all components for final sales values\n",
    "    sales = (trend + seasonal + noise) * multipliers[category]\n",
    "    \n",
    "    # Ensure all values are positive\n",
    "    sales = np.maximum(sales, 10000)\n",
    "\n",
    "    # Create data entries for this category\n",
    "    for i, date in enumerate(dates):\n",
    "        retail_data.append({\n",
    "            \"unique_id\": category, \n",
    "            \"ds\": date, \n",
    "            \"y\": sales[i]\n",
    "        })\n",
    "\n",
    "# Convert to DataFrame\n",
    "retail_df = pd.DataFrame(retail_data)\n",
    "\n",
    "print(f\"Dataset shape: {retail_df.shape}\")\n",
    "print(f\"Date range: {retail_df['ds'].min()} to {retail_df['ds'].max()}\")\n",
    "print(f\"Categories: {sorted(retail_df['unique_id'].unique())}\")\n",
    "retail_df.head()"
   ]
  },
  {
   "cell_type": "markdown",
   "metadata": {},
   "source": [
    "## Manual vs Automatic Parameter Selection\n",
    "\n",
    "Traditional ARIMA requires testing multiple parameter combinations manually. AutoARIMA automates this process:"
   ]
  },
  {
   "cell_type": "code",
   "execution_count": null,
   "metadata": {},
   "outputs": [],
   "source": [
    "# Traditional manual approach - extensive parameter testing\n",
    "import time\n",
    "from statsmodels.tsa.arima.model import ARIMA\n",
    "import warnings\n",
    "\n",
    "warnings.filterwarnings(\"ignore\")\n",
    "\n",
    "\n",
    "def manual_arima_selection(data, max_p=2, max_q=2, max_P=1, max_Q=1):\n",
    "    \"\"\"Manual ARIMA parameter selection (time-consuming approach)\"\"\"\n",
    "    best_aic = float(\"inf\")\n",
    "    best_params = None\n",
    "\n",
    "    print(\"Testing parameter combinations manually...\")\n",
    "    print(\"=\" * 50)\n",
    "\n",
    "    tested_count = 0\n",
    "    # Test all parameter combinations with nested loops\n",
    "    for p in range(max_p + 1):\n",
    "        for d in range(2):\n",
    "            for q in range(max_q + 1):\n",
    "                for P in range(max_P + 1):\n",
    "                    for D in range(2):\n",
    "                        for Q in range(max_Q + 1):\n",
    "                            try:\n",
    "                                model = ARIMA(data, order=(p, d, q), seasonal_order=(P, D, Q, 12))\n",
    "                                aic = model.fit().aic\n",
    "\n",
    "                                if aic < best_aic:\n",
    "                                    best_aic = aic\n",
    "                                    best_params = (p, d, q, P, D, Q)\n",
    "\n",
    "                                tested_count += 1\n",
    "                                if tested_count <= 5:  # Show first 5 combinations\n",
    "                                    print(f\"ARIMA({p},{d},{q})({P},{D},{Q})[12]: AIC = {aic:.2f}\")\n",
    "\n",
    "                            except:\n",
    "                                tested_count += 1\n",
    "                                continue\n",
    "\n",
    "    print(f\"... (tested {tested_count} combinations)\")\n",
    "    print(f\"Best: ARIMA{best_params[:3]}x{best_params[3:]}[12], AIC = {best_aic:.2f}\")\n",
    "\n",
    "    return best_params, best_aic\n",
    "\n",
    "\n",
    "# Test manual approach on electronics category data\n",
    "electronics_data = retail_df[retail_df[\"unique_id\"] == \"electronics\"][\"y\"].values\n",
    "print(\"Manual ARIMA parameter selection for electronics category:\")\n",
    "\n",
    "# Capture manual execution time for later comparisons\n",
    "start_manual = time.time()\n",
    "manual_params, manual_aic = manual_arima_selection(electronics_data)\n",
    "manual_execution_time = time.time() - start_manual"
   ]
  },
  {
   "cell_type": "markdown",
   "metadata": {},
   "source": [
    "AutoARIMA eliminates manual parameter testing through automated optimization:"
   ]
  },
  {
   "cell_type": "code",
   "execution_count": null,
   "metadata": {},
   "outputs": [],
   "source": [
    "# AutoARIMA with constrained search space for fair comparison with manual approach\n",
    "sf_fair = StatsForecast(\n",
    "    models=[\n",
    "        AutoARIMA(\n",
    "            season_length=12,      # Annual seasonality\n",
    "            max_p=2, max_q=2,      # Match manual search limits\n",
    "            max_P=1, max_Q=1,      # Match manual seasonal limits\n",
    "            seasonal=True          # Enable seasonal components\n",
    "        )\n",
    "    ],\n",
    "    freq='MS'\n",
    ")"
   ]
  },
  {
   "cell_type": "markdown",
   "metadata": {},
   "source": [
    "Compare performance between manual and automatic approaches:"
   ]
  },
  {
   "cell_type": "code",
   "execution_count": null,
   "metadata": {},
   "outputs": [],
   "source": [
    "electronics_series = retail_df[retail_df[\"unique_id\"] == \"electronics\"]\n",
    "\n",
    "start_time = time.time()\n",
    "sf_fair.fit(electronics_series)\n",
    "fair_execution_time = time.time() - start_time\n",
    "\n",
    "print(f\"Manual approach (statsmodels): {manual_execution_time:.2f}s for 144 combinations\")\n",
    "print(f\"AutoARIMA (statsforecast):   {fair_execution_time:.2f}s for 144 combinations\")\n",
    "print(f\"Algorithm efficiency gain:   {manual_execution_time/fair_execution_time:.1f}x faster\")"
   ]
  },
  {
   "cell_type": "markdown",
   "metadata": {},
   "source": [
    "## Model Comparison\n",
    "\n",
    "Compare AutoARIMA with other forecasting methods:"
   ]
  },
  {
   "cell_type": "code",
   "execution_count": null,
   "metadata": {},
   "outputs": [],
   "source": [
    "# Configure multiple automatic models for comparison\n",
    "sf_comparison = StatsForecast(\n",
    "    models=[\n",
    "        AutoARIMA(season_length=12, stepwise=True),\n",
    "        AutoETS(season_length=12),  # Exponential smoothing\n",
    "        SeasonalNaive(season_length=12)  # Simple seasonal baseline\n",
    "    ],\n",
    "    freq='MS'\n",
    ")\n",
    "\n",
    "# Split data for training and testing (use 80% for training)\n",
    "split_date = retail_df[\"ds\"].quantile(0.8)\n",
    "train_data = retail_df[retail_df[\"ds\"] <= split_date]\n",
    "test_data = retail_df[retail_df[\"ds\"] > split_date]\n",
    "\n",
    "print(f\"Training period: {train_data['ds'].min()} to {train_data['ds'].max()}\")\n",
    "print(f\"Test period: {test_data['ds'].min()} to {test_data['ds'].max()}\")\n",
    "\n",
    "# Fit all models simultaneously\n",
    "sf_comparison.fit(train_data)\n",
    "print(\"All models fitted for comparison\")"
   ]
  },
  {
   "cell_type": "markdown",
   "metadata": {},
   "source": [
    "Generate forecasts from all models:"
   ]
  },
  {
   "cell_type": "code",
   "execution_count": null,
   "metadata": {},
   "outputs": [],
   "source": [
    "# Generate forecasts for comparison\n",
    "forecasts = sf_comparison.predict(h=7)  # 7-month ahead forecasts\n",
    "print(f\"Forecast shape: {forecasts.shape}\")\n",
    "forecasts.head()"
   ]
  },
  {
   "cell_type": "markdown",
   "metadata": {},
   "source": [
    "## Prediction Intervals\n",
    "\n",
    "Generate forecasts with confidence intervals to quantify uncertainty:"
   ]
  },
  {
   "cell_type": "code",
   "execution_count": null,
   "metadata": {},
   "outputs": [],
   "source": [
    "# Create AutoARIMA model for prediction intervals\n",
    "sf_auto = StatsForecast(\n",
    "    models=[AutoARIMA(season_length=12, stepwise=True)],\n",
    "    freq='MS'\n",
    ")\n",
    "\n",
    "# Fit on training data and generate forecasts with multiple confidence levels\n",
    "sf_auto.fit(train_data)\n",
    "forecasts_with_intervals = sf_auto.predict(\n",
    "    h=12,                    # 12-month forecast horizon\n",
    "    level=[50, 80, 90, 95]  # Multiple confidence levels\n",
    ")\n",
    "\n",
    "print(f\"Forecast columns: {forecasts_with_intervals.columns.tolist()}\")\n",
    "sample_forecast = forecasts_with_intervals[\n",
    "    forecasts_with_intervals[\"unique_id\"] == \"electronics\"\n",
    "].head()\n",
    "\n",
    "sample_forecast[[\"ds\", \"AutoARIMA\", \"AutoARIMA-lo-95\", \"AutoARIMA-hi-95\"]]"
   ]
  },
  {
   "cell_type": "markdown",
   "metadata": {},
   "source": [
    "Visualize forecasts with confidence intervals:"
   ]
  },
  {
   "cell_type": "code",
   "execution_count": null,
   "metadata": {},
   "outputs": [],
   "source": [
    "# Visualize forecasts with confidence intervals\n",
    "def plot_forecasts_with_intervals(category_name):\n",
    "    # Get historical data for the category\n",
    "    historical = train_data[train_data[\"unique_id\"] == category_name]\n",
    "    recent_history = historical.tail(24)  # Show last 2 years of history\n",
    "\n",
    "    # Get forecasts for the category\n",
    "    category_forecast = forecasts_with_intervals[\n",
    "        forecasts_with_intervals[\"unique_id\"] == category_name\n",
    "    ]\n",
    "\n",
    "    fig, ax = plt.subplots(figsize=(12, 6))\n",
    "\n",
    "    # Apply dark theme\n",
    "    fig.patch.set_facecolor('#160741')\n",
    "    ax.set_facecolor('#160741')\n",
    "\n",
    "    # Plot historical data\n",
    "    ax.plot(\n",
    "        recent_history[\"ds\"],\n",
    "        recent_history[\"y\"],\n",
    "        label=\"Historical Sales\",\n",
    "        color='#FFFFFF',\n",
    "        linewidth=2,\n",
    "    )\n",
    "\n",
    "    # Plot point forecasts\n",
    "    ax.plot(\n",
    "        category_forecast[\"ds\"],\n",
    "        category_forecast[\"AutoARIMA\"],\n",
    "        label=\"AutoARIMA Forecast\",\n",
    "        color='#98FE09',\n",
    "        linewidth=2,\n",
    "    )\n",
    "\n",
    "    # Plot confidence intervals\n",
    "    ax.fill_between(\n",
    "        category_forecast[\"ds\"],\n",
    "        category_forecast[\"AutoARIMA-lo-95\"],\n",
    "        category_forecast[\"AutoARIMA-hi-95\"],\n",
    "        color='#02FEFA',\n",
    "        alpha=0.2,\n",
    "        label=\"95% Confidence\",\n",
    "    )\n",
    "\n",
    "    ax.fill_between(\n",
    "        category_forecast[\"ds\"],\n",
    "        category_forecast[\"AutoARIMA-lo-80\"],\n",
    "        category_forecast[\"AutoARIMA-hi-80\"],\n",
    "        color='#02FEFA',\n",
    "        alpha=0.3,\n",
    "        label=\"80% Confidence\",\n",
    "    )\n",
    "\n",
    "    # Apply white text styling for dark theme\n",
    "    ax.set_title(\n",
    "        f\"{category_name.title()} Sales Forecast with Confidence Intervals\",\n",
    "        color='#FFFFFF',\n",
    "        fontsize=14,\n",
    "    )\n",
    "    ax.set_ylabel(\"Sales ($)\", color='#FFFFFF')\n",
    "    ax.set_xlabel(\"Date\", color='#FFFFFF')\n",
    "\n",
    "    # Style legend for dark theme\n",
    "    legend = ax.legend(frameon=False)\n",
    "    for text in legend.get_texts():\n",
    "        text.set_color('#FFFFFF')\n",
    "\n",
    "    # Style ticks and grid for dark theme\n",
    "    ax.tick_params(colors='#FFFFFF')\n",
    "    ax.grid(True, alpha=0.2, color='#FFFFFF')\n",
    "\n",
    "    # Remove spines or make them white\n",
    "    for spine in ax.spines.values():\n",
    "        spine.set_color('#FFFFFF')\n",
    "\n",
    "    # Set x-axis limits to show relevant timeframe\n",
    "    start_date = recent_history[\"ds\"].min()\n",
    "    end_date = category_forecast[\"ds\"].max()\n",
    "    ax.set_xlim(start_date, end_date)\n",
    "\n",
    "    plt.tight_layout()\n",
    "    plt.show()\n",
    "    return fig\n",
    "\n",
    "# Plot forecasts for electronics category\n",
    "fig = plot_forecasts_with_intervals(\"electronics\")\n",
    "\n"
   ]
  },
  {
   "cell_type": "markdown",
   "metadata": {},
   "source": [
    "## Cross-Validation\n",
    "\n",
    "Evaluate model performance using time series cross-validation:"
   ]
  },
  {
   "cell_type": "code",
   "execution_count": null,
   "metadata": {},
   "outputs": [],
   "source": [
    "# Perform time series cross-validation\n",
    "cv_results = sf_auto.cross_validation(\n",
    "    df=train_data,\n",
    "    h=6,           # 6-month forecast horizon\n",
    "    step_size=3,   # Move validation window by 3 months\n",
    "    n_windows=4    # Use 4 validation windows\n",
    ")\n",
    "\n",
    "print(f\"Cross-validation results shape: {cv_results.shape}\")\n",
    "cv_results.head()"
   ]
  },
  {
   "cell_type": "markdown",
   "metadata": {},
   "source": [
    "Calculate forecasting accuracy metrics:"
   ]
  },
  {
   "cell_type": "code",
   "execution_count": null,
   "metadata": {},
   "outputs": [],
   "source": [
    "# Calculate mean absolute percentage error (MAPE) for each category\n",
    "def calculate_mape(actual, predicted):\n",
    "    return np.mean(np.abs((actual - predicted) / actual)) * 100\n",
    "\n",
    "cv_performance = cv_results.groupby(\"unique_id\").apply(\n",
    "    lambda x: calculate_mape(x[\"y\"], x[\"AutoARIMA\"]),\n",
    "    include_groups=False\n",
    ").reset_index(name=\"MAPE\")\n",
    "\n",
    "print(\"AutoARIMA Cross-Validation Performance (MAPE):\")\n",
    "print(cv_performance.sort_values(\"MAPE\"))"
   ]
  },
  {
   "cell_type": "markdown",
   "metadata": {},
   "source": [
    "## Complete Forecasting Pipeline\n",
    "\n",
    "Production-ready forecasting workflow:"
   ]
  },
  {
   "cell_type": "code",
   "execution_count": null,
   "metadata": {},
   "outputs": [],
   "source": [
    "# Split data for validation\n",
    "split_date = retail_df[\"ds\"].quantile(0.85)  # Use 85% for training\n",
    "train_data = retail_df[retail_df[\"ds\"] <= split_date]\n",
    "test_data = retail_df[retail_df[\"ds\"] > split_date]\n",
    "\n",
    "print(f\"Training data: {len(train_data)} observations\")\n",
    "print(f\"Training period: {train_data['ds'].min()} to {train_data['ds'].max()}\")"
   ]
  },
  {
   "cell_type": "markdown",
   "metadata": {},
   "source": [
    "Configure and fit the model:"
   ]
  },
  {
   "cell_type": "code",
   "execution_count": null,
   "metadata": {},
   "outputs": [],
   "source": [
    "# Configure AutoARIMA with essential parameters\n",
    "sf_production = StatsForecast(\n",
    "    models=[\n",
    "        AutoARIMA(\n",
    "            season_length=12,  # Annual seasonality\n",
    "            stepwise=True,  # Efficient search\n",
    "            seasonal=True,  # Enable seasonal detection\n",
    "        )\n",
    "    ],\n",
    "    freq='MS'\n",
    ")\n",
    "\n",
    "# Fit model on training data\n",
    "sf_production.fit(train_data)"
   ]
  },
  {
   "cell_type": "markdown",
   "metadata": {},
   "source": [
    "Generate production forecasts:"
   ]
  },
  {
   "cell_type": "code",
   "execution_count": null,
   "metadata": {},
   "outputs": [],
   "source": [
    "# Generate forecasts with confidence intervals\n",
    "forecasts = sf_production.predict(\n",
    "    h=12,                    # 12-month forecast horizon\n",
    "    level=[80, 95]          # Confidence levels\n",
    ")\n",
    "\n",
    "print(f\"Final forecasts shape: {forecasts.shape}\")"
   ]
  },
  {
   "cell_type": "markdown",
   "metadata": {},
   "source": [
    "Validate results:"
   ]
  },
  {
   "cell_type": "code",
   "execution_count": null,
   "metadata": {},
   "outputs": [],
   "source": [
    "# Generate predictions for validation period\n",
    "validation_horizon = len(test_data[\"ds\"].unique())\n",
    "validation_forecasts = sf_production.predict(h=validation_horizon)\n",
    "\n",
    "# Calculate validation metrics\n",
    "validation_mape = calculate_mape(\n",
    "    test_data[\"y\"].values,\n",
    "    validation_forecasts[\"AutoARIMA\"].values\n",
    ")\n",
    "print(f\"Validation MAPE: {validation_mape:.2f}%\")"
   ]
  },
  {
   "cell_type": "markdown",
   "metadata": {},
   "source": [
    "## Key Takeaways\n",
    "\n",
    "- **AutoARIMA** eliminates manual parameter tuning (19.5x faster than manual approaches)\n",
    "- **Automatic model selection** handles parameter optimization, seasonality detection, and uncertainty quantification\n",
    "- **Production-ready** workflow scales to multiple time series with confidence intervals\n",
    "- **Cross-validation** provides reliable performance evaluation\n",
    "\n",
    "## Next Steps\n",
    "\n",
    "- Explore [time series cross-validation techniques](https://nixtla.github.io/statsforecast/docs/how-to-guides/00_Automatic_Forecasting.html#cross-validation)\n",
    "- Scale to thousands of series with [distributed forecasting](https://nixtla.github.io/statsforecast/docs/how-to-guides/06_Distributed_computing.html)"
   ]
  }
 ],
 "metadata": {
  "kernelspec": {
   "display_name": ".venv",
   "language": "python",
   "name": "python3"
  },
  "language_info": {
   "codemirror_mode": {
    "name": "ipython",
    "version": 3
   },
   "file_extension": ".py",
   "mimetype": "text/x-python",
   "name": "python",
   "nbconvert_exporter": "python",
   "pygments_lexer": "ipython3",
   "version": "3.11.11"
  }
 },
 "nbformat": 4,
 "nbformat_minor": 4
}
