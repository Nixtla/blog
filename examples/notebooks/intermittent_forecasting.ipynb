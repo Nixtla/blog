{
 "cells": [
  {
   "cell_type": "markdown",
   "id": "0",
   "metadata": {
    "marimo": {
     "config": {
      "hide_code": true
     }
    }
   },
   "source": [
    "Import required libraries for data analysis, forecasting, and evaluation metrics."
   ]
  },
  {
   "cell_type": "code",
   "execution_count": null,
   "id": "1",
   "metadata": {},
   "outputs": [],
   "source": [
    "import numpy as np\n",
    "import pandas as pd\n",
    "from nixtla import NixtlaClient\n",
    "from utilsforecast.evaluation import evaluate\n",
    "from utilsforecast.losses import mae"
   ]
  },
  {
   "cell_type": "markdown",
   "id": "2",
   "metadata": {
    "marimo": {
     "config": {
      "hide_code": true
     }
    }
   },
   "source": [
    "## Prerequisites"
   ]
  },
  {
   "cell_type": "markdown",
   "id": "3",
   "metadata": {
    "marimo": {
     "config": {
      "hide_code": true
     }
    }
   },
   "source": [
    "Initialize Nixtla client with API key from environment variables."
   ]
  },
  {
   "cell_type": "code",
   "execution_count": null,
   "id": "4",
   "metadata": {},
   "outputs": [],
   "source": [
    "import os\n",
    "\n",
    "NIXTLA_API_KEY = os.environ[\"NIXTLA_API_KEY\"]\n",
    "client = NixtlaClient(api_key=NIXTLA_API_KEY)"
   ]
  },
  {
   "cell_type": "markdown",
   "id": "5",
   "metadata": {
    "marimo": {
     "config": {
      "hide_code": true
     }
    }
   },
   "source": [
    "## Data Preparation"
   ]
  },
  {
   "cell_type": "markdown",
   "id": "6",
   "metadata": {
    "marimo": {
     "config": {
      "hide_code": true
     }
    }
   },
   "source": [
    "Load and preprocess the M5 sales dataset with exogenous variables."
   ]
  },
  {
   "cell_type": "code",
   "execution_count": null,
   "id": "7",
   "metadata": {},
   "outputs": [],
   "source": [
    "sales_data = pd.read_csv(\n",
    "    \"https://raw.githubusercontent.com/Nixtla/transfer-learning-time-series/main/datasets/m5_sales_exog_small.csv\"\n",
    ")\n",
    "sales_data[\"ds\"] = pd.to_datetime(sales_data[\"ds\"])\n",
    "sales_data.head()"
   ]
  },
  {
   "cell_type": "markdown",
   "id": "8",
   "metadata": {
    "marimo": {
     "config": {
      "hide_code": true
     }
    }
   },
   "source": [
    "Visualize the sales data for the first 365 days."
   ]
  },
  {
   "cell_type": "code",
   "execution_count": null,
   "id": "9",
   "metadata": {},
   "outputs": [],
   "source": [
    "sales_plot = client.plot(\n",
    "    sales_data,\n",
    "    max_insample_length=365,\n",
    ")\n",
    "\n",
    "sales_plot"
   ]
  },
  {
   "cell_type": "markdown",
   "id": "10",
   "metadata": {
    "marimo": {
     "config": {
      "hide_code": true
     }
    }
   },
   "source": [
    "## Bounded Forecasts"
   ]
  },
  {
   "cell_type": "markdown",
   "id": "11",
   "metadata": {
    "marimo": {
     "config": {
      "hide_code": true
     }
    }
   },
   "source": [
    "Apply log transformation to handle the intermittent nature of the data."
   ]
  },
  {
   "cell_type": "code",
   "execution_count": null,
   "id": "12",
   "metadata": {},
   "outputs": [],
   "source": [
    "log_transformed_data = sales_data.copy()\n",
    "log_transformed_data[\"y\"] = np.log(log_transformed_data[\"y\"] + 1)\n",
    "log_transformed_data.head()"
   ]
  },
  {
   "cell_type": "markdown",
   "id": "13",
   "metadata": {
    "marimo": {
     "config": {
      "hide_code": true
     }
    }
   },
   "source": [
    "Compare original and log-transformed data for a specific product."
   ]
  },
  {
   "cell_type": "code",
   "execution_count": null,
   "id": "14",
   "metadata": {},
   "outputs": [],
   "source": [
    "import matplotlib.pyplot as plt\n",
    "\n",
    "# Create a figure and axis for Matplotlib\n",
    "_, ax = plt.subplots(figsize=(10, 5))\n",
    "\n",
    "# Plot the original data\n",
    "client.plot(\n",
    "    sales_data,\n",
    "    max_insample_length=30,\n",
    "    unique_ids=[\"FOODS_1_001\"],\n",
    "    engine=\"matplotlib\",\n",
    "    ax=ax,\n",
    ")\n",
    "\n",
    "# Plot the transformed data on the same axes\n",
    "client.plot(\n",
    "    log_transformed_data,\n",
    "    max_insample_length=30,\n",
    "    unique_ids=[\"FOODS_1_001\"],\n",
    "    engine=\"matplotlib\",\n",
    "    ax=ax,\n",
    ")\n",
    "\n",
    "# Manually change the color of the second line plot\n",
    "lines = ax.get_lines()\n",
    "if len(lines) > 1:\n",
    "    lines[1].set_color(\"#006400\")  # New color for transformed data\n",
    "    lines[1].set_linestyle(\"--\")\n",
    "\n",
    "# Add legend with custom labels\n",
    "handles, labels = ax.get_legend_handles_labels()\n",
    "labels = [\"Original Sales\", \"Transformed Sales\"]\n",
    "ax.legend(handles, labels)\n",
    "\n",
    "ax"
   ]
  },
  {
   "cell_type": "markdown",
   "id": "15",
   "metadata": {
    "marimo": {
     "config": {
      "hide_code": true
     }
    }
   },
   "source": [
    "Split data into training and test sets (last 28 days for testing)."
   ]
  },
  {
   "cell_type": "code",
   "execution_count": null,
   "id": "16",
   "metadata": {},
   "outputs": [],
   "source": [
    "# Select the last 28 observations for each unique_id — used as test data\n",
    "test_data = log_transformed_data.groupby(\"unique_id\").tail(28)\n",
    "\n",
    "# Drop the test set indices from the original dataset to form the training set\n",
    "train_data = log_transformed_data.drop(test_data.index).reset_index(drop=True)"
   ]
  },
  {
   "cell_type": "markdown",
   "id": "17",
   "metadata": {
    "marimo": {
     "config": {
      "hide_code": true
     }
    }
   },
   "source": [
    "## Generating Forecasts with TimeGPT"
   ]
  },
  {
   "cell_type": "markdown",
   "id": "18",
   "metadata": {
    "marimo": {
     "config": {
      "hide_code": true
     }
    }
   },
   "source": [
    "Generate forecasts using the base TimeGPT model with 80% confidence interval."
   ]
  },
  {
   "cell_type": "code",
   "execution_count": null,
   "id": "19",
   "metadata": {},
   "outputs": [],
   "source": [
    "log_forecast = client.forecast(\n",
    "    df=train_data,\n",
    "    h=28,\n",
    "    level=[80],\n",
    "    model=\"timegpt-1-long-horizon\",\n",
    "    time_col=\"ds\",\n",
    "    target_col=\"y\",\n",
    "    id_col=\"unique_id\",\n",
    ")"
   ]
  },
  {
   "cell_type": "markdown",
   "id": "20",
   "metadata": {
    "marimo": {
     "config": {
      "hide_code": true
     }
    }
   },
   "source": [
    "## Reverse Transformation\n",
    "\n",
    "After obtaining predictions, we reverse the log transformation to return to the original scale."
   ]
  },
  {
   "cell_type": "code",
   "execution_count": null,
   "id": "21",
   "metadata": {},
   "outputs": [],
   "source": [
    "def reverse_log_transform(df):\n",
    "    df = df.copy()\n",
    "    value_cols = [col for col in df if col not in [\"ds\", \"unique_id\"]]\n",
    "    df[value_cols] = np.exp(df[value_cols]) - 1\n",
    "    return df\n",
    "\n",
    "base_forecast = reverse_log_transform(log_forecast)\n",
    "base_forecast.head()"
   ]
  },
  {
   "cell_type": "markdown",
   "id": "22",
   "metadata": {
    "marimo": {
     "config": {
      "hide_code": true
     }
    }
   },
   "source": [
    "## Evaluation"
   ]
  },
  {
   "cell_type": "markdown",
   "id": "23",
   "metadata": {
    "marimo": {
     "config": {
      "hide_code": true
     }
    }
   },
   "source": [
    "Define functions to merge forecasts with real data and calculate MAE."
   ]
  },
  {
   "cell_type": "code",
   "execution_count": null,
   "id": "24",
   "metadata": {},
   "outputs": [],
   "source": [
    "def merge_forecast(real_data, forecast):\n",
    "    merged_results = pd.merge(\n",
    "        real_data, forecast, \"left\", [\"unique_id\", \"ds\"]\n",
    "    )\n",
    "    return merged_results\n",
    "\n",
    "def get_mean_mae(real_data, forecast):\n",
    "    merged_results = merge_forecast(real_data, forecast)\n",
    "    model_evaluation = evaluate(\n",
    "        merged_results,\n",
    "        metrics=[mae],\n",
    "        models=[\"TimeGPT\"],\n",
    "        target_col=\"y\",\n",
    "        id_col=\"unique_id\",\n",
    "    )\n",
    "    return model_evaluation.groupby(\"metric\")[\"TimeGPT\"].mean()[\"mae\"]"
   ]
  },
  {
   "cell_type": "markdown",
   "id": "25",
   "metadata": {
    "marimo": {
     "config": {
      "hide_code": true
     }
    }
   },
   "source": [
    "Calculate MAE for the base model forecasts."
   ]
  },
  {
   "cell_type": "code",
   "execution_count": null,
   "id": "26",
   "metadata": {},
   "outputs": [],
   "source": [
    "base_mae = get_mean_mae(test_data, base_forecast)\n",
    "print(base_mae)"
   ]
  },
  {
   "cell_type": "markdown",
   "id": "27",
   "metadata": {
    "marimo": {
     "config": {
      "hide_code": true
     }
    }
   },
   "source": [
    "## Finetuning the Model"
   ]
  },
  {
   "cell_type": "markdown",
   "id": "28",
   "metadata": {
    "marimo": {
     "config": {
      "hide_code": true
     }
    }
   },
   "source": [
    "Generate forecasts using a fine-tuned TimeGPT model with 10 finetuning steps."
   ]
  },
  {
   "cell_type": "code",
   "execution_count": null,
   "id": "29",
   "metadata": {},
   "outputs": [],
   "source": [
    "log_finetuned_forecast = client.forecast(\n",
    "    df=train_data,\n",
    "    h=28,\n",
    "    level=[80],\n",
    "    finetune_steps=10,\n",
    "    finetune_loss=\"mae\",\n",
    "    model=\"timegpt-1-long-horizon\",\n",
    "    time_col=\"ds\",\n",
    "    target_col=\"y\",\n",
    "    id_col=\"unique_id\",\n",
    ")"
   ]
  },
  {
   "cell_type": "markdown",
   "id": "30",
   "metadata": {
    "marimo": {
     "config": {
      "hide_code": true
     }
    }
   },
   "source": [
    "Calculate MAE for the fine-tuned model forecasts."
   ]
  },
  {
   "cell_type": "code",
   "execution_count": null,
   "id": "31",
   "metadata": {},
   "outputs": [],
   "source": [
    "finetuned_forecast = reverse_log_transform(log_finetuned_forecast)\n",
    "finedtune_mae = get_mean_mae(test_data, finetuned_forecast)\n",
    "print(finedtune_mae)"
   ]
  },
  {
   "cell_type": "markdown",
   "id": "32",
   "metadata": {
    "marimo": {
     "config": {
      "hide_code": true
     }
    }
   },
   "source": [
    "## Incorporating Exogenous Variables"
   ]
  },
  {
   "cell_type": "markdown",
   "id": "33",
   "metadata": {
    "marimo": {
     "config": {
      "hide_code": true
     }
    }
   },
   "source": [
    "Prepare exogenous variables for forecasting by removing target and price columns."
   ]
  },
  {
   "cell_type": "code",
   "execution_count": null,
   "id": "34",
   "metadata": {},
   "outputs": [],
   "source": [
    "non_exogenous_variables = [\"y\", \"sell_price\"]\n",
    "futr_exog_data = test_data.drop(non_exogenous_variables, axis=1)\n",
    "futr_exog_data.head()"
   ]
  },
  {
   "cell_type": "markdown",
   "id": "35",
   "metadata": {
    "marimo": {
     "config": {
      "hide_code": true
     }
    }
   },
   "source": [
    "Generate forecasts using TimeGPT with exogenous variables and fine-tuning."
   ]
  },
  {
   "cell_type": "code",
   "execution_count": null,
   "id": "36",
   "metadata": {},
   "outputs": [],
   "source": [
    "log_exogenous_forecast = client.forecast(\n",
    "    df=train_data,\n",
    "    X_df=futr_exog_data,\n",
    "    h=28,\n",
    "    level=[80],\n",
    "    finetune_steps=10,\n",
    "    finetune_loss=\"mae\",\n",
    "    model=\"timegpt-1-long-horizon\",\n",
    "    time_col=\"ds\",\n",
    "    target_col=\"y\",\n",
    "    id_col=\"unique_id\",\n",
    ")"
   ]
  },
  {
   "cell_type": "markdown",
   "id": "37",
   "metadata": {
    "marimo": {
     "config": {
      "hide_code": true
     }
    }
   },
   "source": [
    "Calculate MAE for the model with exogenous variables."
   ]
  },
  {
   "cell_type": "code",
   "execution_count": null,
   "id": "38",
   "metadata": {},
   "outputs": [],
   "source": [
    "exogenous_forecast = reverse_log_transform(log_exogenous_forecast)\n",
    "exogenous_mae = get_mean_mae(test_data, exogenous_forecast)\n",
    "print(exogenous_mae)"
   ]
  },
  {
   "cell_type": "markdown",
   "id": "39",
   "metadata": {
    "marimo": {
     "config": {
      "hide_code": true
     }
    }
   },
   "source": [
    "## Comparing MAE"
   ]
  },
  {
   "cell_type": "markdown",
   "id": "40",
   "metadata": {
    "marimo": {
     "config": {
      "hide_code": true
     }
    }
   },
   "source": [
    "Create a comparison table of MAE values for all three model variants."
   ]
  },
  {
   "cell_type": "code",
   "execution_count": null,
   "id": "41",
   "metadata": {},
   "outputs": [],
   "source": [
    "# Define the mean absolute error (MAE) values for different TimeGPT variants\n",
    "mae_values = {\n",
    "    \"Model Variant\": [\"Base TimeGPT\", \"Fine-Tuned TimeGPT\", \"TimeGPT with Exogenous\"],\n",
    "    \"MAE\": [base_mae, finedtune_mae, exogenous_mae]\n",
    "}\n",
    "\n",
    "mae_table = pd.DataFrame(mae_values)\n",
    "mae_table\n"
   ]
  },
  {
   "cell_type": "code",
   "execution_count": null,
   "id": "42",
   "metadata": {},
   "outputs": [],
   "source": []
  }
 ],
 "metadata": {},
 "nbformat": 4,
 "nbformat_minor": 5
}
