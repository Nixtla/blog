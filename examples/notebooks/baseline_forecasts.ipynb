{
 "cells": [
  {
   "cell_type": "markdown",
   "id": "0",
   "metadata": {
    "marimo": {
     "config": {
      "hide_code": true
     }
    }
   },
   "source": [
    "# Effortless Accuracy: Unlocking the Power of Baseline Forecasts"
   ]
  },
  {
   "cell_type": "markdown",
   "id": "1",
   "metadata": {
    "marimo": {
     "config": {
      "hide_code": true
     }
    }
   },
   "source": [
    "### Required Packages"
   ]
  },
  {
   "cell_type": "code",
   "execution_count": null,
   "id": "2",
   "metadata": {},
   "outputs": [],
   "source": [
    "import os\n",
    "\n",
    "import pandas as pd\n",
    "from statsforecast import StatsForecast\n",
    "from statsforecast.models import (\n",
    "    HistoricAverage,\n",
    "    Naive,\n",
    "    SeasonalNaive,\n",
    "    WindowAverage,\n",
    ")\n",
    "from utilsforecast.evaluation import evaluate\n",
    "from utilsforecast.losses import rmse\n",
    "\n",
    "os.environ[\"NIXTLA_ID_AS_COL\"] = \"1\""
   ]
  },
  {
   "cell_type": "markdown",
   "id": "3",
   "metadata": {
    "marimo": {
     "config": {
      "hide_code": true
     }
    }
   },
   "source": [
    "### Getting the data\n",
    "Tourism data (from the R-tsibble package), but with only 3 regions included."
   ]
  },
  {
   "cell_type": "code",
   "execution_count": null,
   "id": "4",
   "metadata": {},
   "outputs": [],
   "source": [
    "df = pd.read_csv(\"../data/tourism.csv\")\n",
    "df[\"ds\"] = pd.PeriodIndex(df[\"ds\"], freq=\"Q\").to_timestamp()\n",
    "df"
   ]
  },
  {
   "cell_type": "markdown",
   "id": "5",
   "metadata": {
    "marimo": {
     "config": {
      "hide_code": true
     }
    }
   },
   "source": [
    "### Splitting data into test and train"
   ]
  },
  {
   "cell_type": "code",
   "execution_count": null,
   "id": "6",
   "metadata": {},
   "outputs": [],
   "source": [
    "test_df = df.groupby(\"unique_id\", group_keys=False).tail(4)\n",
    "train_df = df[~df.index.isin(test_df.index)]"
   ]
  },
  {
   "cell_type": "markdown",
   "id": "7",
   "metadata": {
    "marimo": {
     "config": {
      "hide_code": true
     }
    }
   },
   "source": [
    "### Setting up the baseline models and training them on the train data."
   ]
  },
  {
   "cell_type": "code",
   "execution_count": null,
   "id": "8",
   "metadata": {},
   "outputs": [],
   "source": [
    "# Define forecast horizon\n",
    "h = 4\n",
    "\n",
    "models = [\n",
    "    HistoricAverage(),\n",
    "    Naive(),\n",
    "    SeasonalNaive(season_length = 4), # Quarterly data seasonality = 4\n",
    "    WindowAverage(window_size=4)\n",
    "]\n",
    "\n",
    "sf = StatsForecast(\n",
    "    models=models,\n",
    "    freq=\"QS\",\n",
    ")\n",
    "\n",
    "sf.fit(train_df)"
   ]
  },
  {
   "cell_type": "markdown",
   "id": "9",
   "metadata": {
    "marimo": {
     "config": {
      "hide_code": true
     }
    }
   },
   "source": [
    "### Predicting for each of the model"
   ]
  },
  {
   "cell_type": "code",
   "execution_count": null,
   "id": "10",
   "metadata": {},
   "outputs": [],
   "source": [
    "pred_df = sf.predict(h=h)"
   ]
  },
  {
   "cell_type": "code",
   "execution_count": null,
   "id": "11",
   "metadata": {},
   "outputs": [],
   "source": [
    "sf.plot(df, pred_df)"
   ]
  },
  {
   "cell_type": "markdown",
   "id": "12",
   "metadata": {
    "marimo": {
     "config": {
      "hide_code": true
     }
    }
   },
   "source": [
    "### Evaluate the models"
   ]
  },
  {
   "cell_type": "code",
   "execution_count": null,
   "id": "13",
   "metadata": {},
   "outputs": [],
   "source": [
    "accuracy_df =  pd.merge(test_df, pred_df, how = \"left\", on = [\"unique_id\", \"ds\"])\n",
    "evaluate(accuracy_df, metrics=[rmse])"
   ]
  }
 ],
 "metadata": {
  "kernelspec": {
   "display_name": ".venv",
   "language": "python",
   "name": "python3"
  },
  "language_info": {
   "codemirror_mode": {
    "name": "ipython",
    "version": 3
   },
   "file_extension": ".py",
   "mimetype": "text/x-python",
   "name": "python",
   "nbconvert_exporter": "python",
   "pygments_lexer": "ipython3",
   "version": "3.11.11"
  }
 },
 "nbformat": 4,
 "nbformat_minor": 5
}
