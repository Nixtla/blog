{
 "cells": [
  {
   "cell_type": "markdown",
   "metadata": {},
   "source": "# DatasetsForecast Tutorial\n\nDatasetsForecast provides one-line access to major time series forecasting datasets.\n\n## Setup\n\nInstall required packages:\n\n```bash\npip install datasetsforecast pandas numpy matplotlib statsforecast\n```"
  },
  {
   "cell_type": "code",
   "metadata": {},
   "source": [
    "import pandas as pd\n",
    "import numpy as np\n",
    "import matplotlib.pyplot as plt\n",
    "from datasetsforecast.m4 import M4\n",
    "from datasetsforecast.hierarchical import HierarchicalData"
   ],
   "execution_count": null,
   "outputs": []
  },
  {
   "cell_type": "markdown",
   "metadata": {},
   "source": "## M4 Competition Dataset\n\nLoad the M4 forecasting competition data with different frequency groups:"
  },
  {
   "cell_type": "code",
   "metadata": {},
   "source": [
    "# Load M4 Hourly dataset (414 time series, 48-hour forecasts)\n",
    "data_df, _, meta_df = M4.load(directory='data', group='Hourly')\n",
    "\n",
    "print(f\"Training data shape: {data_df.shape}\")\n",
    "print(f\"Number of unique series: {data_df['unique_id'].nunique()}\")\n",
    "\n",
    "# Preview the data structure\n",
    "print(data_df.groupby('unique_id')['y'].count().head())"
   ],
   "execution_count": null,
   "outputs": []
  },
  {
   "cell_type": "markdown",
   "metadata": {},
   "source": "## M4 Frequency Groups\n\nEach M4 group has different characteristics:"
  },
  {
   "cell_type": "code",
   "metadata": {},
   "source": [
    "# Available M4 frequency groups and their properties\n",
    "frequency_info = {\n",
    "    'Yearly': {'series': 23000, 'horizon': 6, 'seasonality': 1},\n",
    "    'Quarterly': {'series': 24000, 'horizon': 8, 'seasonality': 4},\n",
    "    'Monthly': {'series': 48000, 'horizon': 18, 'seasonality': 12},\n",
    "    'Weekly': {'series': 359, 'horizon': 13, 'seasonality': 1},\n",
    "    'Daily': {'series': 4227, 'horizon': 14, 'seasonality': 1},\n",
    "    'Hourly': {'series': 414, 'horizon': 48, 'seasonality': 24}\n",
    "}\n",
    "\n",
    "for freq, info in frequency_info.items():\n",
    "    print(f\"{freq}: {info['series']} series, {info['horizon']}-step ahead forecasts\")"
   ],
   "execution_count": null,
   "outputs": []
  },
  {
   "cell_type": "markdown",
   "metadata": {},
   "source": "## Visualize Sample Series\n\nPlot sample hourly series to understand data patterns:"
  },
  {
   "cell_type": "code",
   "metadata": {},
   "source": "# Visualize sample hourly series\nsample_series = ['H1', 'H2', 'H3']\nfig, axes = plt.subplots(1, 3, figsize=(15, 4))\n\nfor i, series_id in enumerate(sample_series):\n    series_data = data_df[data_df['unique_id'] == series_id]\n    axes[i].plot(series_data['ds'], series_data['y'], color='#98FE09', linewidth=2)\n    axes[i].set_title(f'Series {series_id}')\n    axes[i].tick_params(axis='x', rotation=45)\n\nplt.tight_layout()\nplt.show()",
   "execution_count": null,
   "outputs": []
  },
  {
   "cell_type": "markdown",
   "metadata": {},
   "source": "## Hierarchical Forecasting with Tourism Dataset\n\nLoad hierarchical data with constraint matrices:"
  },
  {
   "cell_type": "code",
   "metadata": {},
   "source": [
    "# Load Tourism dataset with hierarchical structure\n",
    "Y_df, S_df, _ = HierarchicalData.load(directory=\"data\", group=\"TourismLarge\")\n",
    "\n",
    "print(f\"Time series data shape: {Y_df.shape}\")\n",
    "print(f\"Constraint matrix shape: {S_df.shape}\")\n",
    "\n",
    "# Show hierarchical structure\n",
    "print(f\"\\nHierarchical structure:\")\n",
    "print(f\"  Total series: {len(Y_df['unique_id'].unique())}\")\n",
    "print(f\"  Bottom level series: {S_df.shape[1]}\")\n",
    "print(f\"  Aggregated levels: {S_df.shape[0] - S_df.shape[1]}\")\n",
    "print(f\"  Total hierarchical nodes: {S_df.shape[0]}\")"
   ],
   "execution_count": null,
   "outputs": []
  },
  {
   "cell_type": "markdown",
   "metadata": {},
   "source": "## Long Horizon Forecasting with ETT Dataset\n\nLoad ETT dataset for long-term forecasting:"
  },
  {
   "cell_type": "code",
   "metadata": {},
   "source": [
    "from datasetsforecast.long_horizon import LongHorizon\n",
    "\n",
    "# Load ETT dataset for long-horizon forecasting\n",
    "Y_train, Y_val, Y_test = LongHorizon.load(directory=\"data\", group=\"ETTh1\")\n",
    "\n",
    "print(f\"Training data shape: {Y_train.shape}\")\n",
    "print(f\"Validation data shape: {Y_val.shape}\")\n",
    "\n",
    "# Show sample data\n",
    "print(f\"\\nSample training data:\")\n",
    "print(Y_train.head())"
   ],
   "execution_count": null,
   "outputs": []
  },
  {
   "cell_type": "markdown",
   "metadata": {},
   "source": "## Predictive Maintenance with PHM2008\n\nLoad remaining useful life (RUL) data:"
  },
  {
   "cell_type": "code",
   "metadata": {},
   "source": [
    "from datasetsforecast.phm2008 import PHM2008\n",
    "\n",
    "# Load PHM2008 dataset for remaining useful life prediction\n",
    "Y_df, *_ = PHM2008.load(directory=\"data\", group=\"FD001\")\n",
    "\n",
    "print(f\"Dataset shape: {Y_df.shape}\")\n",
    "print(f\"Unique engines: {Y_df['unique_id'].nunique()}\")\n",
    "\n",
    "# Analyze RUL distribution\n",
    "rul_stats = Y_df.groupby('unique_id')['y'].agg(['min', 'max', 'count'])\n",
    "print(f\"\\nRUL Statistics per engine:\")\n",
    "print(f\"  Average cycles per engine: {rul_stats['count'].mean():.0f}\")\n",
    "print(f\"  Min cycles: {rul_stats['count'].min()}\")\n",
    "print(f\"  Max cycles: {rul_stats['count'].max()}\")\n",
    "print(f\"  Average max RUL: {rul_stats['max'].mean():.0f}\")\n",
    "\n",
    "# Show sample data structure\n",
    "print(f\"\\nSample data:\")\n",
    "print(Y_df.head(10))"
   ],
   "execution_count": null,
   "outputs": []
  },
  {
   "cell_type": "markdown",
   "metadata": {},
   "source": "## Model Evaluation\n\nEvaluate forecasts using competition metrics:"
  },
  {
   "cell_type": "code",
   "metadata": {},
   "source": [
    "from statsforecast import StatsForecast\n",
    "from statsforecast.models import Naive, SeasonalNaive\n",
    "from datasetsforecast.m4 import M4Evaluation\n",
    "\n",
    "# Create simple benchmark forecasts\n",
    "models = [Naive(), SeasonalNaive(season_length=24)]\n",
    "sf = StatsForecast(models=models, freq='H')\n",
    "\n",
    "# Generate forecasts for evaluation\n",
    "forecasts = sf.forecast(df=data_df, h=48)\n",
    "y_hat = forecasts[['Naive']].values\n",
    "\n",
    "# Evaluate using M4 methodology\n",
    "evaluation = M4Evaluation.evaluate('data', 'Hourly', y_hat)\n",
    "print(\"M4 Evaluation Results:\")\n",
    "print(evaluation)"
   ],
   "execution_count": null,
   "outputs": []
  },
  {
   "cell_type": "markdown",
   "metadata": {},
   "source": "## Benchmark Comparison\n\nCompare against competition winners:"
  },
  {
   "cell_type": "code",
   "metadata": {},
   "source": [
    "# Load benchmark forecasts from M4 competition winners\n",
    "naive2_forecasts = M4Evaluation.load_benchmark('data', 'Hourly')\n",
    "naive2_evaluation = M4Evaluation.evaluate('data', 'Hourly', naive2_forecasts)\n",
    "\n",
    "benchmark_comparison = pd.DataFrame({\n",
    "    'Our Model': evaluation.iloc[0],\n",
    "    'Naive2 Benchmark': naive2_evaluation.iloc[0]\n",
    "})\n",
    "\n",
    "print(\"Benchmark Comparison:\")\n",
    "print(benchmark_comparison)"
   ],
   "execution_count": null,
   "outputs": []
  }
 ],
 "metadata": {
  "kernelspec": {
   "display_name": "Python 3",
   "language": "python",
   "name": "python3"
  }
 },
 "nbformat": 4,
 "nbformat_minor": 4
}