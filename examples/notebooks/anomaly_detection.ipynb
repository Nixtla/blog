{
 "cells": [
  {
   "cell_type": "code",
   "execution_count": null,
   "id": "0",
   "metadata": {},
   "outputs": [],
   "source": [
    "import os\n",
    "\n",
    "import pandas as pd\n",
    "from nixtla import NixtlaClient"
   ]
  },
  {
   "cell_type": "markdown",
   "id": "1",
   "metadata": {},
   "source": [
    "# Anomaly detection"
   ]
  },
  {
   "cell_type": "markdown",
   "id": "2",
   "metadata": {},
   "source": [
    "## Import packages"
   ]
  },
  {
   "cell_type": "markdown",
   "id": "3",
   "metadata": {},
   "source": [
    "Import required libraries for data manipulation and Nixtla client initialization."
   ]
  },
  {
   "cell_type": "code",
   "execution_count": null,
   "id": "4",
   "metadata": {},
   "outputs": [],
   "source": [
    "NIXTLA_API_KEY = os.environ[\"NIXTLA_API_KEY\"]\n",
    "nixtla_client = NixtlaClient(api_key=NIXTLA_API_KEY)"
   ]
  },
  {
   "cell_type": "markdown",
   "id": "5",
   "metadata": {},
   "source": [
    "Initialize Nixtla client with API key from environment variables."
   ]
  },
  {
   "cell_type": "markdown",
   "id": "6",
   "metadata": {},
   "source": [
    "## Load dataset\n",
    "\n",
    "Now, let's load the dataset for this tutorial."
   ]
  },
  {
   "cell_type": "code",
   "execution_count": null,
   "id": "7",
   "metadata": {},
   "outputs": [],
   "source": [
    "# Read the dataset\n",
    "wikipedia = pd.read_csv(\"https://datasets-nixtla.s3.amazonaws.com/peyton-manning.csv\", parse_dates=[\"ds\"])\n",
    "wikipedia.head(10)"
   ]
  },
  {
   "cell_type": "markdown",
   "id": "8",
   "metadata": {},
   "source": [
    "Load the Peyton Manning Wikipedia page views dataset and display first 10 rows."
   ]
  },
  {
   "cell_type": "code",
   "execution_count": null,
   "id": "9",
   "metadata": {},
   "outputs": [],
   "source": [
    "wikipedia_plot = nixtla_client.plot(wikipedia)\n",
    "wikipedia_plot"
   ]
  },
  {
   "cell_type": "markdown",
   "id": "10",
   "metadata": {},
   "source": [
    "Plot the time series data to visualize the patterns."
   ]
  },
  {
   "cell_type": "code",
   "execution_count": null,
   "id": "11",
   "metadata": {},
   "outputs": [],
   "source": [
    "anomalies_df = nixtla_client.detect_anomalies(\n",
    "    wikipedia,\n",
    "    freq=\"D\",\n",
    "    model=\"timegpt-1\",\n",
    ")\n",
    "anomalies_df.head()"
   ]
  },
  {
   "cell_type": "markdown",
   "id": "12",
   "metadata": {},
   "source": [
    "## Anomaly detection"
   ]
  },
  {
   "cell_type": "markdown",
   "id": "13",
   "metadata": {},
   "source": [
    "Detect anomalies in the time series using TimeGPT model with default settings."
   ]
  },
  {
   "cell_type": "code",
   "execution_count": null,
   "id": "14",
   "metadata": {},
   "outputs": [],
   "source": [
    "anomaly_plot = nixtla_client.plot(wikipedia, anomalies_df)\n",
    "anomaly_plot"
   ]
  },
  {
   "cell_type": "markdown",
   "id": "15",
   "metadata": {},
   "source": [
    "Visualize the detected anomalies on the time series plot."
   ]
  },
  {
   "cell_type": "code",
   "execution_count": null,
   "id": "16",
   "metadata": {},
   "outputs": [],
   "source": [
    "anomalies_df_exogenous = nixtla_client.detect_anomalies(\n",
    "    wikipedia,\n",
    "    freq=\"D\",\n",
    "    date_features=[\"month\", \"year\"],\n",
    "    date_features_to_one_hot=True,\n",
    "    model=\"timegpt-1\",\n",
    ")"
   ]
  },
  {
   "cell_type": "markdown",
   "id": "17",
   "metadata": {},
   "source": [
    "## Anomaly detection with exogenous features"
   ]
  },
  {
   "cell_type": "markdown",
   "id": "18",
   "metadata": {},
   "source": [
    "Detect anomalies using TimeGPT with additional date-based features (month and year)."
   ]
  },
  {
   "cell_type": "code",
   "execution_count": null,
   "id": "19",
   "metadata": {},
   "outputs": [],
   "source": [
    "feature_plot = nixtla_client.weights_x.plot.barh(\n",
    "    x=\"features\",\n",
    "    y=\"weights\"\n",
    ")\n",
    "\n",
    "feature_plot"
   ]
  },
  {
   "cell_type": "markdown",
   "id": "20",
   "metadata": {},
   "source": [
    "Plot the feature importance weights to understand which features contribute most to anomaly detection."
   ]
  },
  {
   "cell_type": "code",
   "execution_count": null,
   "id": "21",
   "metadata": {},
   "outputs": [],
   "source": [
    "# Without exogenous features\n",
    "print(\"Number of anomalies without exogenous features:\", anomalies_df.anomaly.sum())\n",
    "\n",
    "# With exogenous features\n",
    "print(\"Number of anomalies with exogenous features:\", anomalies_df_exogenous.anomaly.sum())"
   ]
  },
  {
   "cell_type": "markdown",
   "id": "22",
   "metadata": {},
   "source": [
    "Compare the number of anomalies detected with and without exogenous features."
   ]
  },
  {
   "cell_type": "code",
   "execution_count": null,
   "id": "23",
   "metadata": {},
   "outputs": [],
   "source": [
    "anomalies_exogenous_plot = nixtla_client.plot(wikipedia, anomalies_df_exogenous)\n",
    "anomalies_exogenous_plot"
   ]
  },
  {
   "cell_type": "markdown",
   "id": "24",
   "metadata": {},
   "source": [
    "Visualize the anomalies detected using the model with exogenous features."
   ]
  },
  {
   "cell_type": "code",
   "execution_count": null,
   "id": "25",
   "metadata": {},
   "outputs": [],
   "source": [
    "anomalies_df_70 = nixtla_client.detect_anomalies(wikipedia, freq=\"D\", level=70)"
   ]
  },
  {
   "cell_type": "markdown",
   "id": "26",
   "metadata": {},
   "source": [
    "## Modifying the confidence intervals"
   ]
  },
  {
   "cell_type": "markdown",
   "id": "27",
   "metadata": {},
   "source": [
    "Detect anomalies using a lower confidence interval (70%) to see how it affects the results."
   ]
  },
  {
   "cell_type": "code",
   "execution_count": null,
   "id": "28",
   "metadata": {},
   "outputs": [],
   "source": [
    "# Print and compare anomaly counts\n",
    "print(\"Number of anomalies with 99% confidence interval:\", anomalies_df.anomaly.sum())\n",
    "print(\"Number of anomalies with 70% confidence interval:\", anomalies_df_70.anomaly.sum())"
   ]
  },
  {
   "cell_type": "markdown",
   "id": "29",
   "metadata": {},
   "source": [
    "Compare the number of anomalies detected with different confidence intervals (99% vs 70%)."
   ]
  },
  {
   "cell_type": "code",
   "execution_count": null,
   "id": "30",
   "metadata": {},
   "outputs": [],
   "source": [
    "anomalies_70_plot = nixtla_client.plot(wikipedia, anomalies_df_70)\n",
    "anomalies_70_plot"
   ]
  },
  {
   "cell_type": "markdown",
   "id": "31",
   "metadata": {},
   "source": [
    "Visualize the anomalies detected using the 70% confidence interval."
   ]
  }
 ],
 "metadata": {
  "kernelspec": {
   "display_name": ".venv",
   "language": "python",
   "name": "python3"
  },
  "language_info": {
   "codemirror_mode": {
    "name": "ipython",
    "version": 3
   },
   "file_extension": ".py",
   "mimetype": "text/x-python",
   "name": "python",
   "nbconvert_exporter": "python",
   "pygments_lexer": "ipython3",
   "version": "3.11.11"
  }
 },
 "nbformat": 4,
 "nbformat_minor": 5
}
